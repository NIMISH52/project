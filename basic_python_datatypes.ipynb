{
 "cells": [
  {
   "cell_type": "code",
   "execution_count": 5,
   "source": [
    "x=5 "
   ],
   "outputs": [],
   "metadata": {}
  },
  {
   "cell_type": "code",
   "execution_count": 6,
   "source": [
    "y=5.0"
   ],
   "outputs": [],
   "metadata": {}
  },
  {
   "cell_type": "code",
   "execution_count": 11,
   "source": [
    "z=\"i am learing\" ;\r\n",
    "a='5'\r\n",
    "a=\"5\""
   ],
   "outputs": [],
   "metadata": {}
  },
  {
   "cell_type": "code",
   "execution_count": 17,
   "source": [
    "d='this is line /n new line'"
   ],
   "outputs": [],
   "metadata": {}
  },
  {
   "cell_type": "code",
   "execution_count": 26,
   "source": [
    "print (d)"
   ],
   "outputs": [
    {
     "output_type": "stream",
     "name": "stdout",
     "text": [
      "this is line /n new line\n"
     ]
    }
   ],
   "metadata": {}
  },
  {
   "cell_type": "code",
   "execution_count": 27,
   "source": [
    "boolean = True \r\n",
    "not_boolean = 'True'\r\n",
    "\r\n",
    "x=1\r\n",
    "y= '1'\r\n",
    "x==y \r\n"
   ],
   "outputs": [
    {
     "output_type": "execute_result",
     "data": {
      "text/plain": [
       "False"
      ]
     },
     "metadata": {},
     "execution_count": 27
    }
   ],
   "metadata": {}
  },
  {
   "cell_type": "code",
   "execution_count": 5,
   "source": [
    "a_list = [1, 2, 3, 4, 5, 6, 7, 5.0]"
   ],
   "outputs": [],
   "metadata": {}
  },
  {
   "cell_type": "code",
   "execution_count": 52,
   "source": [
    "a_dictionary = { \" key \" : \" value \", \"multiple_values\": [\"more\", \"than\", \"one\"] }"
   ],
   "outputs": [],
   "metadata": {}
  },
  {
   "cell_type": "code",
   "execution_count": 59,
   "source": [
    "a_list = [\"this first line \\ secound line \"]\r\n",
    "print (a_list)"
   ],
   "outputs": [
    {
     "output_type": "stream",
     "name": "stdout",
     "text": [
      "['this first line \\\\ secound line ']\n"
     ]
    }
   ],
   "metadata": {}
  },
  {
   "cell_type": "code",
   "execution_count": 9,
   "source": [
    "a_list [::2]"
   ],
   "outputs": [
    {
     "output_type": "execute_result",
     "data": {
      "text/plain": [
       "[1, 3, 5, 7]"
      ]
     },
     "metadata": {},
     "execution_count": 9
    }
   ],
   "metadata": {}
  },
  {
   "cell_type": "code",
   "execution_count": 10,
   "source": [
    "b = {1:2, 3:4}"
   ],
   "outputs": [],
   "metadata": {}
  },
  {
   "cell_type": "code",
   "execution_count": 11,
   "source": [
    "b"
   ],
   "outputs": [
    {
     "output_type": "execute_result",
     "data": {
      "text/plain": [
       "{1: 2, 3: 4}"
      ]
     },
     "metadata": {},
     "execution_count": 11
    }
   ],
   "metadata": {}
  },
  {
   "cell_type": "code",
   "execution_count": 17,
   "source": [
    "a_set = [1, 2, 3, ]"
   ],
   "outputs": [],
   "metadata": {}
  },
  {
   "cell_type": "code",
   "execution_count": 30,
   "source": [
    "def imp_function(x, y, z):\r\n",
    "    return x*y+z "
   ],
   "outputs": [],
   "metadata": {}
  },
  {
   "cell_type": "code",
   "execution_count": 31,
   "source": [
    "imp_function(2, 3, 4)"
   ],
   "outputs": [
    {
     "output_type": "execute_result",
     "data": {
      "text/plain": [
       "10"
      ]
     },
     "metadata": {},
     "execution_count": 31
    }
   ],
   "metadata": {}
  },
  {
   "cell_type": "code",
   "execution_count": 36,
   "source": [
    "import numpy as np"
   ],
   "outputs": [],
   "metadata": {}
  },
  {
   "cell_type": "code",
   "execution_count": 40,
   "source": [
    "np.array([1, 2, 3])"
   ],
   "outputs": [
    {
     "output_type": "execute_result",
     "data": {
      "text/plain": [
       "array([1, 2, 3])"
      ]
     },
     "metadata": {},
     "execution_count": 40
    }
   ],
   "metadata": {}
  },
  {
   "cell_type": "code",
   "execution_count": 16,
   "source": [
    "a_list = range(3,100)\r\n",
    "\r\n",
    "for i in a_list:\r\n",
    "    print(\"i is now\", i)\r\n",
    "    i +=1\r\n",
    "    print(\"output is now\", i)\r\n",
    "    \r\n"
   ],
   "outputs": [
    {
     "output_type": "stream",
     "name": "stdout",
     "text": [
      "i is now 3\n",
      "output is now 4\n",
      "i is now 4\n",
      "output is now 5\n",
      "i is now 5\n",
      "output is now 6\n",
      "i is now 6\n",
      "output is now 7\n",
      "i is now 7\n",
      "output is now 8\n",
      "i is now 8\n",
      "output is now 9\n",
      "i is now 9\n",
      "output is now 10\n",
      "i is now 10\n",
      "output is now 11\n",
      "i is now 11\n",
      "output is now 12\n",
      "i is now 12\n",
      "output is now 13\n",
      "i is now 13\n",
      "output is now 14\n",
      "i is now 14\n",
      "output is now 15\n",
      "i is now 15\n",
      "output is now 16\n",
      "i is now 16\n",
      "output is now 17\n",
      "i is now 17\n",
      "output is now 18\n",
      "i is now 18\n",
      "output is now 19\n",
      "i is now 19\n",
      "output is now 20\n",
      "i is now 20\n",
      "output is now 21\n",
      "i is now 21\n",
      "output is now 22\n",
      "i is now 22\n",
      "output is now 23\n",
      "i is now 23\n",
      "output is now 24\n",
      "i is now 24\n",
      "output is now 25\n",
      "i is now 25\n",
      "output is now 26\n",
      "i is now 26\n",
      "output is now 27\n",
      "i is now 27\n",
      "output is now 28\n",
      "i is now 28\n",
      "output is now 29\n",
      "i is now 29\n",
      "output is now 30\n",
      "i is now 30\n",
      "output is now 31\n",
      "i is now 31\n",
      "output is now 32\n",
      "i is now 32\n",
      "output is now 33\n",
      "i is now 33\n",
      "output is now 34\n",
      "i is now 34\n",
      "output is now 35\n",
      "i is now 35\n",
      "output is now 36\n",
      "i is now 36\n",
      "output is now 37\n",
      "i is now 37\n",
      "output is now 38\n",
      "i is now 38\n",
      "output is now 39\n",
      "i is now 39\n",
      "output is now 40\n",
      "i is now 40\n",
      "output is now 41\n",
      "i is now 41\n",
      "output is now 42\n",
      "i is now 42\n",
      "output is now 43\n",
      "i is now 43\n",
      "output is now 44\n",
      "i is now 44\n",
      "output is now 45\n",
      "i is now 45\n",
      "output is now 46\n",
      "i is now 46\n",
      "output is now 47\n",
      "i is now 47\n",
      "output is now 48\n",
      "i is now 48\n",
      "output is now 49\n",
      "i is now 49\n",
      "output is now 50\n",
      "i is now 50\n",
      "output is now 51\n",
      "i is now 51\n",
      "output is now 52\n",
      "i is now 52\n",
      "output is now 53\n",
      "i is now 53\n",
      "output is now 54\n",
      "i is now 54\n",
      "output is now 55\n",
      "i is now 55\n",
      "output is now 56\n",
      "i is now 56\n",
      "output is now 57\n",
      "i is now 57\n",
      "output is now 58\n",
      "i is now 58\n",
      "output is now 59\n",
      "i is now 59\n",
      "output is now 60\n",
      "i is now 60\n",
      "output is now 61\n",
      "i is now 61\n",
      "output is now 62\n",
      "i is now 62\n",
      "output is now 63\n",
      "i is now 63\n",
      "output is now 64\n",
      "i is now 64\n",
      "output is now 65\n",
      "i is now 65\n",
      "output is now 66\n",
      "i is now 66\n",
      "output is now 67\n",
      "i is now 67\n",
      "output is now 68\n",
      "i is now 68\n",
      "output is now 69\n",
      "i is now 69\n",
      "output is now 70\n",
      "i is now 70\n",
      "output is now 71\n",
      "i is now 71\n",
      "output is now 72\n",
      "i is now 72\n",
      "output is now 73\n",
      "i is now 73\n",
      "output is now 74\n",
      "i is now 74\n",
      "output is now 75\n",
      "i is now 75\n",
      "output is now 76\n",
      "i is now 76\n",
      "output is now 77\n",
      "i is now 77\n",
      "output is now 78\n",
      "i is now 78\n",
      "output is now 79\n",
      "i is now 79\n",
      "output is now 80\n",
      "i is now 80\n",
      "output is now 81\n",
      "i is now 81\n",
      "output is now 82\n",
      "i is now 82\n",
      "output is now 83\n",
      "i is now 83\n",
      "output is now 84\n",
      "i is now 84\n",
      "output is now 85\n",
      "i is now 85\n",
      "output is now 86\n",
      "i is now 86\n",
      "output is now 87\n",
      "i is now 87\n",
      "output is now 88\n",
      "i is now 88\n",
      "output is now 89\n",
      "i is now 89\n",
      "output is now 90\n",
      "i is now 90\n",
      "output is now 91\n",
      "i is now 91\n",
      "output is now 92\n",
      "i is now 92\n",
      "output is now 93\n",
      "i is now 93\n",
      "output is now 94\n",
      "i is now 94\n",
      "output is now 95\n",
      "i is now 95\n",
      "output is now 96\n",
      "i is now 96\n",
      "output is now 97\n",
      "i is now 97\n",
      "output is now 98\n",
      "i is now 98\n",
      "output is now 99\n",
      "i is now 99\n",
      "output is now 100\n"
     ]
    }
   ],
   "metadata": {}
  },
  {
   "cell_type": "code",
   "execution_count": 27,
   "source": [
    "x= 0\r\n",
    "while x < 5:\r\n",
    "    x+=1\r\n",
    "    \r\n",
    "    print(x)\r\n",
    "    "
   ],
   "outputs": [
    {
     "output_type": "stream",
     "name": "stdout",
     "text": [
      "1\n",
      "2\n",
      "3\n",
      "4\n",
      "5\n"
     ]
    }
   ],
   "metadata": {}
  },
  {
   "cell_type": "code",
   "execution_count": 30,
   "source": [
    "a= 5\r\n",
    "b= 5"
   ],
   "outputs": [],
   "metadata": {}
  },
  {
   "cell_type": "code",
   "execution_count": 31,
   "source": [
    "x = b \r\n",
    "y = a\r\n",
    "\r\n",
    "if x == y:\r\n",
    "    print(\"x is equal to y\")\r\n",
    "elif x > y:\r\n",
    "    print(\"x is greater than y\")\r\n",
    "else:\r\n",
    "    print(\"x is less than y\")"
   ],
   "outputs": [
    {
     "output_type": "stream",
     "name": "stdout",
     "text": [
      "x is equal to y\n"
     ]
    }
   ],
   "metadata": {}
  },
  {
   "cell_type": "code",
   "execution_count": 33,
   "source": [
    "try:\r\n",
    "    2/0\r\n",
    "except ZeroDivisionError:\r\n",
    "    print(\"can't divide by 0\")"
   ],
   "outputs": [
    {
     "output_type": "stream",
     "name": "stdout",
     "text": [
      "can't divide by 0\n"
     ]
    }
   ],
   "metadata": {}
  },
  {
   "cell_type": "code",
   "execution_count": null,
   "source": [],
   "outputs": [],
   "metadata": {}
  }
 ],
 "metadata": {
  "orig_nbformat": 4,
  "language_info": {
   "name": "python",
   "version": "3.8.8",
   "mimetype": "text/x-python",
   "codemirror_mode": {
    "name": "ipython",
    "version": 3
   },
   "pygments_lexer": "ipython3",
   "nbconvert_exporter": "python",
   "file_extension": ".py"
  },
  "kernelspec": {
   "name": "python3",
   "display_name": "Python 3.8.8 64-bit ('base': conda)"
  },
  "interpreter": {
   "hash": "f9cbfacc67f79fa671f98e5e4d802e757777a497276ab7c77ed7bca2d36d5253"
  }
 },
 "nbformat": 4,
 "nbformat_minor": 2
}