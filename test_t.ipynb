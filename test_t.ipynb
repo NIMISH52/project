{
 "cells": [
  {
   "cell_type": "code",
   "execution_count": 1,
   "source": [
    "line = '*'\r\n",
    "max_length = 10\r\n",
    "\r\n",
    "while len(line) <= max_length:\r\n",
    "    print(line)\r\n",
    "    line += \"*\"\r\n",
    "    \r\n",
    "while len(line) > 0:\r\n",
    "    print(line)\r\n",
    "    line = line[:-1]"
   ],
   "outputs": [
    {
     "output_type": "stream",
     "name": "stdout",
     "text": [
      "*\n",
      "**\n",
      "***\n",
      "****\n",
      "*****\n",
      "******\n",
      "*******\n",
      "********\n",
      "*********\n",
      "**********\n",
      "***********\n",
      "**********\n",
      "*********\n",
      "********\n",
      "*******\n",
      "******\n",
      "*****\n",
      "****\n",
      "***\n",
      "**\n",
      "*\n"
     ]
    }
   ],
   "metadata": {}
  },
  {
   "cell_type": "code",
   "execution_count": 180,
   "source": [
    "line = '         *'\r\n",
    "max_length = 10\r\n",
    "new_loop = 0\r\n",
    "\r\n",
    "while len(line) <= max_length:\r\n",
    "    print(line)\r\n",
    "    line = line.split(' ',1)[-1]\r\n",
    "    line = line + \"*\"\r\n",
    "    line = line\r\n",
    "\r\n",
    "\r\n",
    "while new_loop <= max_length:\r\n",
    "    new_loop = new_loop + 1\r\n",
    "    line = line[:-1]\r\n",
    "    print(line)\r\n",
    "    line =  ' ' + line\r\n",
    "    line = line\r\n",
    "\r\n",
    "\r\n",
    "    "
   ],
   "outputs": [
    {
     "output_type": "stream",
     "name": "stdout",
     "text": [
      "         *\n",
      "        **\n",
      "       ***\n",
      "      ****\n",
      "     *****\n",
      "    ******\n",
      "   *******\n",
      "  ********\n",
      " *********\n",
      "**********\n",
      "**********\n",
      " *********\n",
      "  ********\n",
      "   *******\n",
      "    ******\n",
      "     *****\n",
      "      ****\n",
      "       ***\n",
      "        **\n",
      "         *\n",
      "          \n"
     ]
    }
   ],
   "metadata": {}
  },
  {
   "cell_type": "code",
   "execution_count": 242,
   "source": [
    "line1 = '         *'\r\n",
    "line2 = '*'\r\n",
    "max_length = 20\r\n",
    "new_loop = 11\r\n",
    "line_total = \"\"\r\n",
    "print('           *')\r\n",
    "while len(line_total) <= max_length:\r\n",
    "    line_total =\" \" + line1 + \"*\" + line2\r\n",
    "    print(line_total)\r\n",
    "    line1 = line1.split(' ',1)[-1]\r\n",
    "    line1 = line1 + \"*\"\r\n",
    "    line1 = line1\r\n",
    "    line2 += \"*\"\r\n",
    "\r\n",
    "print(\" *********************\")\r\n",
    "\r\n",
    "while new_loop <= max_length:\r\n",
    "    new_loop = new_loop + 1\r\n",
    "    line1 = line1[:-1]\r\n",
    "    line2 = line2[:-1]\r\n",
    "    line_total = '  ' + line1 + '*' + line2\r\n",
    "    print(line_total)\r\n",
    "    line1 =  ' ' + line1\r\n",
    "    line1 = line1\r\n"
   ],
   "outputs": [
    {
     "output_type": "stream",
     "name": "stdout",
     "text": [
      "           *\n",
      "          ***\n",
      "         *****\n",
      "        *******\n",
      "       *********\n",
      "      ***********\n",
      "     *************\n",
      "    ***************\n",
      "   *****************\n",
      "  *******************\n",
      " *********************\n",
      "  *******************\n",
      "   *****************\n",
      "    ***************\n",
      "     *************\n",
      "      ***********\n",
      "       *********\n",
      "        *******\n",
      "         *****\n",
      "          ***\n",
      "           *\n"
     ]
    }
   ],
   "metadata": {}
  },
  {
   "cell_type": "code",
   "execution_count": 184,
   "source": [
    "line2 = '*'\r\n",
    "max_length = 10\r\n",
    "\r\n",
    "while len(line2) <= max_length:\r\n",
    "    print(line2)\r\n",
    "    line2 += \"*\"\r\n",
    "    \r\n",
    "while len(line2) > 0:\r\n",
    "    print(line2)\r\n",
    "    line2 = line2[:-1]"
   ],
   "outputs": [
    {
     "output_type": "stream",
     "name": "stdout",
     "text": [
      "*\n",
      "**\n",
      "***\n",
      "****\n",
      "*****\n",
      "******\n",
      "*******\n",
      "********\n",
      "*********\n",
      "**********\n",
      "***********\n",
      "**********\n",
      "*********\n",
      "********\n",
      "*******\n",
      "******\n",
      "*****\n",
      "****\n",
      "***\n",
      "**\n",
      "*\n"
     ]
    }
   ],
   "metadata": {}
  },
  {
   "cell_type": "code",
   "execution_count": 72,
   "source": [
    "len(line)"
   ],
   "outputs": [
    {
     "output_type": "execute_result",
     "data": {
      "text/plain": [
       "10"
      ]
     },
     "metadata": {},
     "execution_count": 72
    }
   ],
   "metadata": {}
  },
  {
   "cell_type": "code",
   "execution_count": 6,
   "source": [
    "test = '       *'\r\n",
    "test1= '      **'\r\n",
    "test2= '     ***'\r\n",
    "test3= '    ****'\r\n",
    "test4= '   *****'\r\n",
    "\r\n",
    "print(test)\r\n",
    "print(test1)\r\n",
    "print(test2)\r\n",
    "print(test3)\r\n",
    "print(test4)\r\n"
   ],
   "outputs": [
    {
     "output_type": "stream",
     "name": "stdout",
     "text": [
      "       *\n",
      "      **\n",
      "     ***\n",
      "    ****\n",
      "   *****\n"
     ]
    }
   ],
   "metadata": {}
  },
  {
   "cell_type": "code",
   "execution_count": 20,
   "source": [
    "line = '___*'\r\n",
    "max_length = 10\r\n",
    "while len(line) <= max_length:\r\n",
    "    print(line)\r\n",
    "    line = line - \"*\"\r\n",
    "    "
   ],
   "outputs": [
    {
     "output_type": "stream",
     "name": "stdout",
     "text": [
      "___*\n"
     ]
    },
    {
     "output_type": "error",
     "ename": "TypeError",
     "evalue": "unsupported operand type(s) for -: 'str' and 'str'",
     "traceback": [
      "\u001b[1;31m---------------------------------------------------------------------------\u001b[0m",
      "\u001b[1;31mTypeError\u001b[0m                                 Traceback (most recent call last)",
      "\u001b[1;32m<ipython-input-20-00e0765fa2d0>\u001b[0m in \u001b[0;36m<module>\u001b[1;34m\u001b[0m\n\u001b[0;32m      3\u001b[0m \u001b[1;32mwhile\u001b[0m \u001b[0mlen\u001b[0m\u001b[1;33m(\u001b[0m\u001b[0mline\u001b[0m\u001b[1;33m)\u001b[0m \u001b[1;33m<=\u001b[0m \u001b[0mmax_length\u001b[0m\u001b[1;33m:\u001b[0m\u001b[1;33m\u001b[0m\u001b[1;33m\u001b[0m\u001b[0m\n\u001b[0;32m      4\u001b[0m     \u001b[0mprint\u001b[0m\u001b[1;33m(\u001b[0m\u001b[0mline\u001b[0m\u001b[1;33m)\u001b[0m\u001b[1;33m\u001b[0m\u001b[1;33m\u001b[0m\u001b[0m\n\u001b[1;32m----> 5\u001b[1;33m     \u001b[0mline\u001b[0m \u001b[1;33m=\u001b[0m \u001b[0mline\u001b[0m \u001b[1;33m-\u001b[0m \u001b[1;34m\"*\"\u001b[0m\u001b[1;33m\u001b[0m\u001b[1;33m\u001b[0m\u001b[0m\n\u001b[0m\u001b[0;32m      6\u001b[0m \u001b[1;33m\u001b[0m\u001b[0m\n",
      "\u001b[1;31mTypeError\u001b[0m: unsupported operand type(s) for -: 'str' and 'str'"
     ]
    }
   ],
   "metadata": {}
  },
  {
   "cell_type": "code",
   "execution_count": 87,
   "source": [
    "line1 = '______*'\r\n",
    "len(line1)\r\n",
    "\r\n"
   ],
   "outputs": [
    {
     "output_type": "execute_result",
     "data": {
      "text/plain": [
       "7"
      ]
     },
     "metadata": {},
     "execution_count": 87
    }
   ],
   "metadata": {}
  },
  {
   "cell_type": "code",
   "execution_count": 88,
   "source": [
    "new_line = line1.split('_',1)[-1]\r\n",
    "new_line = new_line + \"*\"\r\n"
   ],
   "outputs": [],
   "metadata": {}
  },
  {
   "cell_type": "code",
   "execution_count": 88,
   "source": [
    "print(new_line)\r\n",
    "len(new_line)"
   ],
   "outputs": [
    {
     "output_type": "stream",
     "name": "stdout",
     "text": [
      "567819\n"
     ]
    },
    {
     "output_type": "execute_result",
     "data": {
      "text/plain": [
       "6"
      ]
     },
     "metadata": {},
     "execution_count": 88
    }
   ],
   "metadata": {}
  },
  {
   "cell_type": "code",
   "execution_count": 42,
   "source": [
    "print(line1)\r\n",
    "print(new_line)"
   ],
   "outputs": [
    {
     "output_type": "stream",
     "name": "stdout",
     "text": [
      "______*\n",
      "_____**\n"
     ]
    }
   ],
   "metadata": {}
  },
  {
   "cell_type": "code",
   "execution_count": 159,
   "source": [
    "line = '*******_____**'\r\n",
    "len(line)"
   ],
   "outputs": [
    {
     "output_type": "execute_result",
     "data": {
      "text/plain": [
       "14"
      ]
     },
     "metadata": {},
     "execution_count": 159
    }
   ],
   "metadata": {}
  },
  {
   "cell_type": "code",
   "execution_count": 160,
   "source": [
    "new_line = line[:-1]"
   ],
   "outputs": [],
   "metadata": {}
  },
  {
   "cell_type": "code",
   "execution_count": 161,
   "source": [
    "print(line)\r\n",
    "print(new_line)\r\n",
    "\r\n",
    "print(len(line))\r\n",
    "len(new_line)"
   ],
   "outputs": [
    {
     "output_type": "stream",
     "name": "stdout",
     "text": [
      "*******_____**\n",
      "*******_____*\n",
      "14\n"
     ]
    },
    {
     "output_type": "execute_result",
     "data": {
      "text/plain": [
       "13"
      ]
     },
     "metadata": {},
     "execution_count": 161
    }
   ],
   "metadata": {}
  },
  {
   "cell_type": "code",
   "execution_count": 178,
   "source": [
    "line = '____*****'\r\n",
    "len(line)"
   ],
   "outputs": [
    {
     "output_type": "execute_result",
     "data": {
      "text/plain": [
       "9"
      ]
     },
     "metadata": {},
     "execution_count": 178
    }
   ],
   "metadata": {}
  },
  {
   "cell_type": "code",
   "execution_count": 138,
   "source": [
    "line = line[:1]"
   ],
   "outputs": [],
   "metadata": {}
  },
  {
   "cell_type": "code",
   "execution_count": 139,
   "source": [
    "print(line)\r\n",
    "len(line)"
   ],
   "outputs": [
    {
     "output_type": "stream",
     "name": "stdout",
     "text": [
      "_\n"
     ]
    },
    {
     "output_type": "execute_result",
     "data": {
      "text/plain": [
       "1"
      ]
     },
     "metadata": {},
     "execution_count": 139
    }
   ],
   "metadata": {}
  },
  {
   "cell_type": "code",
   "execution_count": 170,
   "source": [
    "line = '**********'\r\n",
    "max_length = 9\r\n",
    "new_loop = 0\r\n",
    "\r\n",
    "while new_loop <= max_length:\r\n",
    "    new_loop = new_loop + 1\r\n",
    "    print(line)\r\n",
    "    line = line[:-1]\r\n",
    "    line =  ' ' + line\r\n",
    "    line = line"
   ],
   "outputs": [
    {
     "output_type": "stream",
     "name": "stdout",
     "text": [
      "**********\n",
      " *********\n",
      "  ********\n",
      "   *******\n",
      "    ******\n",
      "     *****\n",
      "      ****\n",
      "       ***\n",
      "        **\n",
      "         *\n"
     ]
    }
   ],
   "metadata": {}
  },
  {
   "cell_type": "code",
   "execution_count": null,
   "source": [],
   "outputs": [],
   "metadata": {}
  },
  {
   "cell_type": "code",
   "execution_count": null,
   "source": [],
   "outputs": [],
   "metadata": {}
  }
 ],
 "metadata": {
  "orig_nbformat": 4,
  "language_info": {
   "name": "python",
   "version": "3.8.8",
   "mimetype": "text/x-python",
   "codemirror_mode": {
    "name": "ipython",
    "version": 3
   },
   "pygments_lexer": "ipython3",
   "nbconvert_exporter": "python",
   "file_extension": ".py"
  },
  "kernelspec": {
   "name": "python3",
   "display_name": "Python 3.8.8 64-bit ('base': conda)"
  },
  "interpreter": {
   "hash": "f9cbfacc67f79fa671f98e5e4d802e757777a497276ab7c77ed7bca2d36d5253"
  }
 },
 "nbformat": 4,
 "nbformat_minor": 2
}